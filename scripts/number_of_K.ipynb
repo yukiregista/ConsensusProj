{
 "cells": [
  {
   "cell_type": "code",
   "execution_count": 41,
   "id": "3da65dad-588b-4032-b27e-245cd55b74e0",
   "metadata": {},
   "outputs": [],
   "source": [
    "import time\n",
    "from importlib.resources import files\n",
    "import numpy as np\n",
    "from Consensus import *\n",
    "import Consensus\n",
    "from collections import OrderedDict\n",
    "from bitstring import Bits"
   ]
  },
  {
   "cell_type": "code",
   "execution_count": null,
   "id": "f194dc7f-0fb9-487e-aaaf-04f08f2724bd",
   "metadata": {},
   "outputs": [],
   "source": [
    "INPUT_TREE_PATH = files(\"Consensus.sample10\").joinpath(f\"lowsample3.tre\")\n",
    "input_trees = TreeList_with_support.get(path = INPUT_TREE_PATH, schema = \"newick\")\n",
    "majority = input_trees.majority_rule_consensus()"
   ]
  },
  {
   "cell_type": "code",
   "execution_count": null,
   "id": "73686e54-ca33-4c1b-8b0e-0ae677c3b8a0",
   "metadata": {},
   "outputs": [],
   "source": [
    "stdg = STDGreedyConsensus(input_trees)"
   ]
  },
  {
   "cell_type": "code",
   "execution_count": null,
   "id": "bea675b1-b76e-455d-85dc-da9aa366efab",
   "metadata": {
    "scrolled": true
   },
   "outputs": [],
   "source": [
    "stdg.BipartitionP"
   ]
  },
  {
   "cell_type": "code",
   "execution_count": null,
   "id": "36251790-33cc-4bc8-88b5-7362d710e86f",
   "metadata": {},
   "outputs": [],
   "source": [
    "stdg.DIST.shape"
   ]
  },
  {
   "cell_type": "code",
   "execution_count": null,
   "id": "90d82f38-e5e2-4a6f-9e55-b0c56dba8f56",
   "metadata": {},
   "outputs": [],
   "source": [
    "stdg.n_bipartitions"
   ]
  },
  {
   "cell_type": "code",
   "execution_count": null,
   "id": "e95d7fa7-4b28-42d0-aaca-e6ddca4b6ad1",
   "metadata": {
    "scrolled": true
   },
   "outputs": [],
   "source": [
    "over_bipartitions = np.zeros(stdg.n_bipartitions)\n",
    "for i in range(stdg.n_bipartitions):\n",
    "    over_count = 0\n",
    "    for j in range(stdg.n_bipartitions):\n",
    "        if(stdg.DIST[i,j] < stdg.BipartitionP[i] - 1): over_count += 1\n",
    "    over_bipartitions[i] = over_count/stdg.n_bipartitions"
   ]
  },
  {
   "cell_type": "code",
   "execution_count": null,
   "id": "73310a4c-3c9c-4c9f-b08c-6f9c079d5b95",
   "metadata": {},
   "outputs": [],
   "source": [
    "over_bipartitions"
   ]
  },
  {
   "cell_type": "code",
   "execution_count": null,
   "id": "8daa02fa-39eb-482b-96d8-2fa79818aa3b",
   "metadata": {},
   "outputs": [],
   "source": [
    "np.zeros(len(stdg.BipartitionList))"
   ]
  },
  {
   "cell_type": "code",
   "execution_count": null,
   "id": "e11510c4-f6b8-4339-b418-288c3a6336c2",
   "metadata": {},
   "outputs": [],
   "source": [
    "len(stdg.BipartitionList)"
   ]
  },
  {
   "cell_type": "code",
   "execution_count": 11,
   "id": "580277ea-fc86-4b2a-a285-781a685f1765",
   "metadata": {},
   "outputs": [],
   "source": [
    "ASTRAL_INPUT_TREE_PATH = files(\"Consensus.sample100\").joinpath(f\"lowsample3.tre\")\n",
    "ASTRAL_TREE_PATH = files(\"Consensus.sample100\").joinpath(f\"low_astral3.tre\")"
   ]
  },
  {
   "cell_type": "code",
   "execution_count": 12,
   "id": "1ef8619c-21c2-4917-9e79-5a76fe31b9c8",
   "metadata": {},
   "outputs": [],
   "source": [
    "astral_input_trees=TreeList_with_support.get(path = ASTRAL_INPUT_TREE_PATH, schema = \"newick\")\n",
    "astral_tree = Tree_with_support.get(path = ASTRAL_TREE_PATH, schema = \"newick\",taxon_namespace = astral_input_trees.taxon_namespace)"
   ]
  },
  {
   "cell_type": "code",
   "execution_count": 46,
   "id": "98121a3a-d3c6-48d0-9e67-26d129433ce1",
   "metadata": {
    "scrolled": true
   },
   "outputs": [
    {
     "name": "stdout",
     "output_type": "stream",
     "text": [
      "computing transfer_support...\n",
      "computing transfer_support for the other side...\n",
      "current risk: 68506.74717144936\n",
      "current risk: 67619.63050478269\n",
      "current risk: 66743.38764763984\n",
      "current risk: 65871.2066952589\n",
      "current risk: 65042.40669525889\n",
      "current risk: 64213.60669525889\n",
      "current risk: 63388.573361925555\n",
      "current risk: 62572.45669525889\n",
      "current risk: 61760.62336192555\n",
      "current risk: 60971.74002859222\n",
      "current risk: 60207.00669525889\n",
      "current risk: 59445.850742877934\n",
      "current risk: 58716.9174095446\n",
      "current risk: 58079.250742877935\n",
      "current risk: 57443.78407621127\n",
      "current risk: 56809.95074287793\n",
      "current risk: 56198.72574287793\n",
      "current risk: 55612.36643551862\n",
      "current risk: 55038.36643551862\n",
      "current risk: 54486.36643551862\n",
      "current risk: 53935.53310218528\n",
      "current risk: 53396.934148361324\n",
      "current risk: 52859.57343407561\n",
      "current risk: 52327.5996245518\n",
      "current risk: 51855.0996245518\n",
      "current risk: 51407.79367217085\n",
      "current risk: 50961.3997327769\n",
      "current risk: 50520.37949468166\n",
      "current risk: 50110.8743359515\n",
      "current risk: 49711.460841113\n",
      "current risk: 49333.913222065385\n",
      "current risk: 48968.82274587491\n",
      "current risk: 48630.82274587491\n",
      "current risk: 48325.47512682729\n",
      "current risk: 48024.25548535766\n",
      "current risk: 47730.55548535766\n",
      "current risk: 47442.55548535766\n",
      "current risk: 47165.55548535766\n",
      "current risk: 46898.59119964337\n",
      "current risk: 46639.73167583385\n",
      "current risk: 46397.3501323773\n",
      "current risk: 46155.00965618683\n",
      "current risk: 45940.41640221859\n",
      "current risk: 45730.43393191112\n",
      "current risk: 45525.895753422934\n",
      "current risk: 45337.2624200896\n",
      "current risk: 45157.23345183564\n",
      "current risk: 45005.23345183564\n",
      "current risk: 44861.23345183564\n",
      "current risk: 44723.076345053545\n",
      "current risk: 44585.29301172021\n",
      "current risk: 44451.86988900959\n",
      "current risk: 44322.1310450577\n",
      "current risk: 44221.07942168108\n",
      "current risk: 44125.70481850646\n",
      "current risk: 44038.73840991506\n",
      "current risk: 43954.852695629335\n",
      "current risk: 43873.579744758405\n",
      "current risk: 43802.75851321219\n",
      "current risk: 43750.38485276959\n",
      "current risk: 43712.008274127365\n",
      "current risk: 43681.956001400074\n",
      "current risk: 43668.565733016934\n",
      "current risk: 43657.58081238201\n",
      "TIME_iterate_count: 63\n",
      "TIME_first_calc: 14.58\n",
      "TIME_pruning: 3.91\n",
      "TIME_all: 18.49\n"
     ]
    }
   ],
   "source": [
    "astral_std = astral_tree.STD_greedy_pruning(astral_input_trees, normalized=True,time_flag =True)"
   ]
  },
  {
   "cell_type": "code",
   "execution_count": null,
   "id": "e9d36dec-6347-42ec-afc4-573cd4dcab4d",
   "metadata": {},
   "outputs": [],
   "source": [
    "len(astral_std.bipartition_encoding)"
   ]
  },
  {
   "cell_type": "code",
   "execution_count": 17,
   "id": "b4f266e7-45e8-4c7a-af37-4e9f39259deb",
   "metadata": {},
   "outputs": [
    {
     "data": {
      "text/plain": [
       "1000"
      ]
     },
     "execution_count": 17,
     "metadata": {},
     "output_type": "execute_result"
    }
   ],
   "source": [
    "len(astral_input_trees)"
   ]
  },
  {
   "cell_type": "code",
   "execution_count": 26,
   "id": "a2322575-8fff-47c5-b061-7408e67b4b05",
   "metadata": {},
   "outputs": [],
   "source": [
    "#treelistのBipartitionListを作成する\n",
    "BipartitionCountDict = OrderedDict()\n",
    "BipartitionDict = OrderedDict()\n",
    "BipartitionList = [];BipartitionBitsList = []\n",
    "for tree in astral_input_trees:\n",
    "    dict_keys = BipartitionCountDict.keys() # no duplicate keys in one tree\n",
    "    tree.encode_bipartitions()\n",
    "    for branch in tree.internal_edges(exclude_seed_edge=True):\n",
    "        key = branch.bipartition.split_as_int()\n",
    "        BipartitionDict.setdefault(key, branch.bipartition)\n",
    "        if key in dict_keys:\n",
    "            BipartitionCountDict[key] += 1\n",
    "        else:\n",
    "            BipartitionCountDict[key] = 1\n",
    "for key, value in BipartitionCountDict.items():\n",
    "    BipartitionList.append(key)\n",
    "    bitstr = Bits(uint = key, length=astral_tree.n_taxa)\n",
    "    BipartitionBitsList.append(bitstr)"
   ]
  },
  {
   "cell_type": "code",
   "execution_count": 30,
   "id": "4690f27b-59cc-4ced-ad5e-df19271a25bf",
   "metadata": {},
   "outputs": [],
   "source": [
    "Astral_BiparitionDict = OrderedDict()\n",
    "Astral_BipartitionList = [];Astral_BipartitionBitsList = []\n",
    "\n",
    "for branch in astral_tree.internal_edges(exclude_seed_edge=True):\n",
    "    key = branch.bipartition.split_as_int()\n",
    "    Astral_BiparitionDict.setdefault(key, branch.bipartition)\n",
    "    Astral_BipartitionList .append(key)\n",
    "    bitstr = Bits(uint = key, length=astral_tree.n_taxa)\n",
    "    Astral_BipartitionBitsList.append(bitstr)"
   ]
  },
  {
   "cell_type": "code",
   "execution_count": 42,
   "id": "66bf2d7c-50bf-4d97-9633-27f6d1de01ef",
   "metadata": {
    "scrolled": true
   },
   "outputs": [],
   "source": [
    "#Astral_tree と Consensus treeの全てのDIST計算をする\n",
    "Astral_DIST = np.zeros((len(Astral_BipartitionList), len(BipartitionList)))\n",
    "for i in range(len(Astral_BipartitionList)):\n",
    "    for j in range(len(BipartitionList)):\n",
    "        Astral_DIST[i,j] = Consensus._greedy._MinHammingDist(Astral_BipartitionBitsList[i],BipartitionBitsList[j])"
   ]
  },
  {
   "cell_type": "code",
   "execution_count": 44,
   "id": "74b6da85-1739-4f3f-b598-486a49b263e4",
   "metadata": {},
   "outputs": [],
   "source": [
    "#argsortする\n",
    "ORDER = np.zeros((len(Astral_BipartitionList), len(BipartitionList)))\n",
    "for i in range(len(Astral_BipartitionList)):\n",
    "    ORDER[i] = np.argsort(Astral_DIST[i])"
   ]
  },
  {
   "cell_type": "code",
   "execution_count": 45,
   "id": "5b2377af-c121-441d-af4c-7df6d6ca3014",
   "metadata": {},
   "outputs": [
    {
     "data": {
      "text/plain": [
       "array([   11.,  5513., 10129., ...,  3633.,  9948.,   120.])"
      ]
     },
     "execution_count": 45,
     "metadata": {},
     "output_type": "execute_result"
    }
   ],
   "source": [
    "ORDER[3]"
   ]
  },
  {
   "cell_type": "code",
   "execution_count": null,
   "id": "35a9c6d1-d545-4b63-9c44-a9ac62da91bb",
   "metadata": {},
   "outputs": [],
   "source": [
    "#メモ\n"
   ]
  }
 ],
 "metadata": {
  "kernelspec": {
   "display_name": "Python 3 (ipykernel)",
   "language": "python",
   "name": "python3"
  },
  "language_info": {
   "codemirror_mode": {
    "name": "ipython",
    "version": 3
   },
   "file_extension": ".py",
   "mimetype": "text/x-python",
   "name": "python",
   "nbconvert_exporter": "python",
   "pygments_lexer": "ipython3",
   "version": "3.12.3"
  }
 },
 "nbformat": 4,
 "nbformat_minor": 5
}

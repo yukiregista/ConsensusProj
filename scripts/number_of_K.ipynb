{
 "cells": [
  {
   "cell_type": "code",
   "execution_count": 1,
   "id": "3da65dad-588b-4032-b27e-245cd55b74e0",
   "metadata": {},
   "outputs": [],
   "source": [
    "import time\n",
    "from importlib.resources import files\n",
    "import numpy as np\n",
    "from Consensus import *"
   ]
  },
  {
   "cell_type": "code",
   "execution_count": 2,
   "id": "f194dc7f-0fb9-487e-aaaf-04f08f2724bd",
   "metadata": {},
   "outputs": [],
   "source": [
    "INPUT_TREE_PATH = files(\"Consensus.sample10\").joinpath(f\"lowsample3.tre\")\n",
    "input_trees = TreeList_with_support.get(path = INPUT_TREE_PATH, schema = \"newick\")\n",
    "majority = input_trees.majority_rule_consensus()"
   ]
  },
  {
   "cell_type": "code",
   "execution_count": 3,
   "id": "73686e54-ca33-4c1b-8b0e-0ae677c3b8a0",
   "metadata": {},
   "outputs": [
    {
     "name": "stdout",
     "output_type": "stream",
     "text": [
      "Creating Bipartition List etc... time passed : 0.039608001708984375\n",
      "TIME_number_of_independent_bipartitions:  31\n",
      "TIME_Creating_DIST: 0.00\n",
      "TIME_Creating_TD: 0.18\n"
     ]
    }
   ],
   "source": [
    "stdg = STDGreedyConsensus(input_trees)"
   ]
  },
  {
   "cell_type": "code",
   "execution_count": 4,
   "id": "bea675b1-b76e-455d-85dc-da9aa366efab",
   "metadata": {
    "scrolled": true
   },
   "outputs": [
    {
     "data": {
      "text/plain": [
       "array([3, 2, 3, 2, 4, 3, 2, 2, 2, 4, 4, 2, 2, 4, 5, 3, 4, 4, 4, 5, 4, 4,\n",
       "       5, 4, 5, 2, 4, 3, 5, 2, 2])"
      ]
     },
     "execution_count": 4,
     "metadata": {},
     "output_type": "execute_result"
    }
   ],
   "source": [
    "stdg.BipartitionP"
   ]
  },
  {
   "cell_type": "code",
   "execution_count": 5,
   "id": "36251790-33cc-4bc8-88b5-7362d710e86f",
   "metadata": {},
   "outputs": [
    {
     "data": {
      "text/plain": [
       "(32, 32)"
      ]
     },
     "execution_count": 5,
     "metadata": {},
     "output_type": "execute_result"
    }
   ],
   "source": [
    "stdg.DIST.shape"
   ]
  },
  {
   "cell_type": "code",
   "execution_count": 6,
   "id": "90d82f38-e5e2-4a6f-9e55-b0c56dba8f56",
   "metadata": {},
   "outputs": [
    {
     "data": {
      "text/plain": [
       "31"
      ]
     },
     "execution_count": 6,
     "metadata": {},
     "output_type": "execute_result"
    }
   ],
   "source": [
    "stdg.n_bipartitions"
   ]
  },
  {
   "cell_type": "code",
   "execution_count": 11,
   "id": "e95d7fa7-4b28-42d0-aaca-e6ddca4b6ad1",
   "metadata": {
    "scrolled": true
   },
   "outputs": [],
   "source": [
    "over_bipartitions = np.zeros(stdg.n_bipartitions)\n",
    "for i in range(stdg.n_bipartitions):\n",
    "    over_count = 0\n",
    "    for j in range(stdg.n_bipartitions):\n",
    "        if(stdg.DIST[i,j] <= stdg.BipartitionP[i] - 1): over_count += 1\n",
    "    over_bipartitions[i] = over_count/stdg.n_bipartitions"
   ]
  },
  {
   "cell_type": "code",
   "execution_count": 12,
   "id": "73310a4c-3c9c-4c9f-b08c-6f9c079d5b95",
   "metadata": {},
   "outputs": [
    {
     "data": {
      "text/plain": [
       "array([0.61290323, 0.41935484, 0.4516129 , 0.22580645, 0.96774194,\n",
       "       0.64516129, 0.19354839, 0.22580645, 0.22580645, 0.93548387,\n",
       "       0.83870968, 0.19354839, 0.19354839, 0.93548387, 1.        ,\n",
       "       0.64516129, 0.96774194, 0.96774194, 0.96774194, 1.        ,\n",
       "       0.93548387, 0.93548387, 1.        , 0.93548387, 1.        ,\n",
       "       0.12903226, 0.96774194, 0.51612903, 1.        , 0.29032258,\n",
       "       0.29032258])"
      ]
     },
     "execution_count": 12,
     "metadata": {},
     "output_type": "execute_result"
    }
   ],
   "source": [
    "over_bipartitions"
   ]
  },
  {
   "cell_type": "code",
   "execution_count": null,
   "id": "8daa02fa-39eb-482b-96d8-2fa79818aa3b",
   "metadata": {},
   "outputs": [],
   "source": []
  }
 ],
 "metadata": {
  "kernelspec": {
   "display_name": "Python 3 (ipykernel)",
   "language": "python",
   "name": "python3"
  },
  "language_info": {
   "codemirror_mode": {
    "name": "ipython",
    "version": 3
   },
   "file_extension": ".py",
   "mimetype": "text/x-python",
   "name": "python",
   "nbconvert_exporter": "python",
   "pygments_lexer": "ipython3",
   "version": "3.12.3"
  }
 },
 "nbformat": 4,
 "nbformat_minor": 5
}

{
 "cells": [
  {
   "cell_type": "code",
   "execution_count": 59,
   "id": "3da65dad-588b-4032-b27e-245cd55b74e0",
   "metadata": {},
   "outputs": [],
   "source": [
    "import time\n",
    "from importlib.resources import files\n",
    "import numpy as np\n",
    "from Consensus import *\n",
    "import Consensus\n",
    "from collections import OrderedDict\n",
    "from bitstring import Bits"
   ]
  },
  {
   "cell_type": "code",
   "execution_count": 60,
   "id": "f194dc7f-0fb9-487e-aaaf-04f08f2724bd",
   "metadata": {},
   "outputs": [],
   "source": [
    "INPUT_TREE_PATH = \"../sample300/lowsample3.tre\"\n",
    "input_trees = TreeList_with_support.get(path = INPUT_TREE_PATH, schema = \"newick\")\n",
    "majority = input_trees.majority_rule_consensus()"
   ]
  },
  {
   "cell_type": "code",
   "execution_count": 82,
   "id": "580277ea-fc86-4b2a-a285-781a685f1765",
   "metadata": {},
   "outputs": [],
   "source": [
    "ASTRAL_INPUT_TREE_PATH = \"../sample300/lowsample3.tre\"\n",
    "ASTRAL_TREE_PATH = \"../sample300/low_astral3.tre\""
   ]
  },
  {
   "cell_type": "code",
   "execution_count": 83,
   "id": "1ef8619c-21c2-4917-9e79-5a76fe31b9c8",
   "metadata": {},
   "outputs": [],
   "source": [
    "astral_input_trees=TreeList_with_support.get(path = ASTRAL_INPUT_TREE_PATH, schema = \"newick\")\n",
    "astral_tree = Tree_with_support.get(path = ASTRAL_TREE_PATH, schema = \"newick\",taxon_namespace = astral_input_trees.taxon_namespace)"
   ]
  },
  {
   "cell_type": "code",
   "execution_count": 84,
   "id": "98121a3a-d3c6-48d0-9e67-26d129433ce1",
   "metadata": {
    "scrolled": true
   },
   "outputs": [
    {
     "name": "stdout",
     "output_type": "stream",
     "text": [
      "computing transfer_support...\n",
      "computing transfer_support for the other side...\n",
      "current risk: 237979.8129130493\n",
      "current risk: 237042.6771987636\n",
      "current risk: 236110.14624638262\n",
      "current risk: 235177.90457971598\n",
      "current risk: 234249.27243685882\n",
      "current risk: 233329.2100270464\n",
      "current risk: 232412.72193180834\n",
      "current risk: 231496.913598475\n",
      "current risk: 230582.32867784007\n",
      "current risk: 229675.92986831625\n",
      "current risk: 228778.5382016496\n",
      "current risk: 227886.12986831623\n",
      "current risk: 226997.91637625278\n",
      "current risk: 226109.7477254591\n",
      "current risk: 225223.60764609402\n",
      "current risk: 224340.60328101466\n",
      "current risk: 223462.10209053848\n",
      "current risk: 222590.3787139151\n",
      "current risk: 221721.4668091532\n",
      "current risk: 220854.78823772463\n",
      "current risk: 219989.2310948675\n",
      "current risk: 219123.84419010556\n",
      "current risk: 218262.13149169288\n",
      "current risk: 217410.58149169286\n",
      "current risk: 216562.34815835953\n",
      "current risk: 215719.16839645477\n",
      "current risk: 214877.56680915318\n",
      "current risk: 214043.02395201032\n",
      "current risk: 213212.7668091532\n",
      "current risk: 212384.73347581987\n",
      "current risk: 211558.63436382072\n",
      "current risk: 210733.28237969376\n",
      "current risk: 209909.28237969376\n",
      "current risk: 209089.03237969376\n",
      "current risk: 208275.99587175722\n",
      "current risk: 207464.12920509058\n",
      "current risk: 206660.44253518153\n",
      "current risk: 205859.13697962597\n",
      "current risk: 205058.30528076927\n",
      "current risk: 204269.3552807693\n",
      "current risk: 203484.52194743595\n",
      "current risk: 202701.5191696582\n",
      "current risk: 201921.1905982296\n",
      "current risk: 201142.75932117333\n",
      "current risk: 200379.1986068876\n",
      "current risk: 199634.119985509\n",
      "current risk: 198894.28665217565\n",
      "current risk: 198154.72950931854\n",
      "current risk: 197417.34065650468\n",
      "current risk: 196685.59065650468\n",
      "current risk: 195954.59065650468\n",
      "current risk: 195235.00972256932\n",
      "current risk: 194518.87653642116\n",
      "current risk: 193806.19644984108\n",
      "current risk: 193096.12221574184\n",
      "current risk: 192398.78888240852\n",
      "current risk: 191704.38015224977\n",
      "current risk: 191016.88015224977\n",
      "current risk: 190331.54681891645\n",
      "current risk: 189663.54681891645\n",
      "current risk: 189001.636585468\n",
      "current risk: 188343.86991880133\n",
      "current risk: 187688.7200583247\n",
      "current risk: 187036.65317033365\n",
      "current risk: 186387.35317033366\n",
      "current risk: 185743.08729731778\n",
      "current risk: 185099.08729731778\n",
      "current risk: 184457.58729731778\n",
      "current risk: 183821.08729731778\n",
      "current risk: 183187.18729731778\n",
      "current risk: 182554.77527957974\n",
      "current risk: 181923.94194624643\n",
      "current risk: 181316.3443271988\n",
      "current risk: 180710.62369227817\n",
      "current risk: 180109.0328192623\n",
      "current risk: 179521.6472109835\n",
      "current risk: 178943.6472109835\n",
      "current risk: 178375.6472109835\n",
      "current risk: 177809.6472109835\n",
      "current risk: 177261.6472109835\n",
      "current risk: 176722.2564687579\n",
      "current risk: 176183.6564687579\n",
      "current risk: 175646.58194091645\n",
      "current risk: 175111.7581064176\n",
      "current risk: 174579.2581064176\n",
      "current risk: 174046.7581064176\n",
      "current risk: 173520.34302705253\n",
      "current risk: 173000.17636038587\n",
      "current risk: 172484.24861868314\n",
      "current risk: 171970.24861868314\n",
      "current risk: 171459.1633123228\n",
      "current risk: 170949.96331232283\n",
      "current risk: 170443.8585197298\n",
      "current risk: 169946.8958661753\n",
      "current risk: 169452.36840423575\n",
      "current risk: 168966.56022659317\n",
      "current risk: 168481.14166112442\n",
      "current risk: 168012.89595691554\n",
      "current risk: 167546.42218346676\n",
      "current risk: 167083.2560856456\n",
      "current risk: 166630.60852921807\n",
      "current risk: 166189.1476779778\n",
      "current risk: 165755.4754557556\n",
      "current risk: 165327.14417221717\n",
      "current risk: 164905.23861969865\n",
      "current risk: 164489.5552863653\n",
      "current risk: 164085.5203788107\n",
      "current risk: 163703.90339579372\n",
      "current risk: 163322.43672912705\n",
      "current risk: 162945.35339579373\n",
      "current risk: 162569.94033090872\n",
      "current risk: 162204.75137541976\n",
      "current risk: 161842.35490328964\n",
      "current risk: 161482.5647411713\n",
      "current risk: 161125.32211284354\n",
      "current risk: 160769.43225984307\n",
      "current risk: 160436.7341216127\n",
      "current risk: 160117.2341216127\n",
      "current risk: 159800.34146288258\n",
      "current risk: 159491.39265335875\n",
      "current risk: 159183.2259866921\n",
      "current risk: 158875.2259866921\n",
      "current risk: 158569.7259866921\n",
      "current risk: 158265.30932002544\n",
      "current risk: 157962.09265335876\n",
      "current risk: 157660.09265335876\n",
      "current risk: 157359.76652948264\n",
      "current risk: 157059.8393402801\n",
      "current risk: 156764.2638829946\n",
      "current risk: 156470.49219570786\n",
      "current risk: 156178.87217406282\n",
      "current risk: 155891.95279801404\n",
      "current risk: 155605.45279801404\n",
      "current risk: 155319.1286198972\n",
      "current risk: 155034.083381802\n",
      "current risk: 154749.38789068014\n",
      "current risk: 154466.38789068014\n",
      "current risk: 154187.4145192831\n",
      "current risk: 153908.47109881468\n",
      "current risk: 153630.6972892909\n",
      "current risk: 153353.54435888794\n",
      "current risk: 153078.27769222128\n",
      "current risk: 152805.06102555463\n",
      "current risk: 152540.3383977346\n",
      "current risk: 152276.17173106794\n",
      "current risk: 152012.26739541205\n",
      "current risk: 151751.40778321054\n",
      "current risk: 151516.11480551466\n",
      "current risk: 151283.7494046147\n",
      "current risk: 151056.92325021356\n",
      "current risk: 150830.69460544927\n",
      "current risk: 150611.67397052865\n",
      "current risk: 150404.22874147704\n",
      "current risk: 150201.4076517152\n",
      "current risk: 150011.79986067073\n",
      "current risk: 149835.3439556117\n",
      "current risk: 149662.94251261026\n",
      "current risk: 149495.96946813393\n",
      "current risk: 149336.87982000282\n",
      "current risk: 149183.20867666742\n",
      "current risk: 149030.90160596036\n",
      "current risk: 148882.11827262703\n",
      "current risk: 148736.93646949885\n",
      "current risk: 148593.8617274654\n",
      "current risk: 148458.09067629435\n",
      "current risk: 148325.1677333379\n",
      "current risk: 148197.3405510087\n",
      "current risk: 148078.14940982102\n",
      "current risk: 147960.56357343518\n",
      "current risk: 147848.5445258161\n",
      "current risk: 147755.966340521\n",
      "current risk: 147664.61807212274\n",
      "current risk: 147580.54015338348\n",
      "current risk: 147505.19692836358\n",
      "current risk: 147430.36359503024\n",
      "current risk: 147359.45400239082\n",
      "current risk: 147290.76051522826\n",
      "current risk: 147225.91297971716\n",
      "current risk: 147167.21017760976\n",
      "current risk: 147109.24524254483\n",
      "current risk: 147056.34745040428\n",
      "current risk: 147003.8990891549\n",
      "current risk: 146953.91130149536\n",
      "current risk: 146908.2404101268\n",
      "current risk: 146865.17859120696\n",
      "current risk: 146822.71408373732\n",
      "current risk: 146781.15313796946\n",
      "current risk: 146742.9945500183\n",
      "current risk: 146709.26121668497\n",
      "current risk: 146675.76121668497\n",
      "current risk: 146642.72277779752\n",
      "current risk: 146612.13482547208\n",
      "current risk: 146582.1353588006\n",
      "current risk: 146552.92947401016\n",
      "current risk: 146525.71073512064\n",
      "current risk: 146502.4727811302\n",
      "current risk: 146479.91466940477\n",
      "current risk: 146460.97802549315\n",
      "current risk: 146445.1377410687\n",
      "current risk: 146438.11852191013\n",
      "current risk: 146433.46821949797\n",
      "TIME_iterate_count: 200\n",
      "TIME_first_calc: 217.82\n",
      "TIME_pruning: 123.95\n",
      "TIME_all: 341.78\n"
     ]
    }
   ],
   "source": [
    "astral_std = astral_tree.STD_greedy_pruning(astral_input_trees, normalized=True,time_flag =True)"
   ]
  },
  {
   "cell_type": "code",
   "execution_count": 85,
   "id": "e9d36dec-6347-42ec-afc4-573cd4dcab4d",
   "metadata": {},
   "outputs": [
    {
     "data": {
      "text/plain": [
       "398"
      ]
     },
     "execution_count": 85,
     "metadata": {},
     "output_type": "execute_result"
    }
   ],
   "source": [
    "len(astral_std.bipartition_encoding)"
   ]
  },
  {
   "cell_type": "code",
   "execution_count": 86,
   "id": "b4f266e7-45e8-4c7a-af37-4e9f39259deb",
   "metadata": {},
   "outputs": [
    {
     "data": {
      "text/plain": [
       "1000"
      ]
     },
     "execution_count": 86,
     "metadata": {},
     "output_type": "execute_result"
    }
   ],
   "source": [
    "len(astral_input_trees)"
   ]
  },
  {
   "cell_type": "code",
   "execution_count": 87,
   "id": "a2322575-8fff-47c5-b061-7408e67b4b05",
   "metadata": {},
   "outputs": [],
   "source": [
    "#treelistのBipartitionListを作成する\n",
    "BipartitionCountDict = OrderedDict()\n",
    "BipartitionDict = OrderedDict()\n",
    "BipartitionList = [];BipartitionBitsList = []\n",
    "for tree in astral_input_trees:\n",
    "    dict_keys = BipartitionCountDict.keys() # no duplicate keys in one tree\n",
    "    tree.encode_bipartitions()\n",
    "    for branch in tree.internal_edges(exclude_seed_edge=True):\n",
    "        key = branch.bipartition.split_as_int()\n",
    "        BipartitionDict.setdefault(key, branch.bipartition)\n",
    "        if key in dict_keys:\n",
    "            BipartitionCountDict[key] += 1\n",
    "        else:\n",
    "            BipartitionCountDict[key] = 1\n",
    "for key, value in BipartitionCountDict.items():\n",
    "    BipartitionList.append(key)\n",
    "    bitstr = Bits(uint = key, length=astral_tree.n_taxa)\n",
    "    BipartitionBitsList.append(bitstr)"
   ]
  },
  {
   "cell_type": "code",
   "execution_count": 88,
   "id": "4690f27b-59cc-4ced-ad5e-df19271a25bf",
   "metadata": {},
   "outputs": [],
   "source": [
    "Astral_BiparitionDict = OrderedDict()\n",
    "Astral_BipartitionList = [];Astral_BipartitionBitsList = []\n",
    "\n",
    "i = 0 #Listの何番目かを示す\n",
    "for branch in astral_tree.internal_edges(exclude_seed_edge=True):\n",
    "    key = branch.bipartition.split_as_int()\n",
    "    Astral_BiparitionDict.setdefault(key,branch.bipartition)\n",
    "    Astral_BipartitionList.append(key)\n",
    "    bitstr = Bits(uint = key, length=astral_tree.n_taxa)\n",
    "    Astral_BipartitionBitsList.append(bitstr)\n",
    "    i +=1"
   ]
  },
  {
   "cell_type": "code",
   "execution_count": 89,
   "id": "66bf2d7c-50bf-4d97-9633-27f6d1de01ef",
   "metadata": {
    "scrolled": true
   },
   "outputs": [],
   "source": [
    "#Astral_tree と Consensus treeの全てのDIST計算をする\n",
    "Astral_DIST = np.zeros((len(Astral_BipartitionList), len(BipartitionList)))\n",
    "for i in range(len(Astral_BipartitionList)):\n",
    "    for j in range(len(BipartitionList)):\n",
    "        Astral_DIST[i,j] = Consensus._greedy._MinHammingDist(Astral_BipartitionBitsList[i],BipartitionBitsList[j])"
   ]
  },
  {
   "cell_type": "code",
   "execution_count": 92,
   "id": "9f8e9b3f",
   "metadata": {},
   "outputs": [],
   "source": [
    "indices = []\n",
    "for branch in astral_std.internal_edges(exclude_seed_edge=True):\n",
    "    key = branch.bipartition.split_as_int()\n",
    "    indices.append(Astral_BipartitionList.index(key))\n",
    "    \n",
    "refinfo = Consensus._consensus._create_refinfo([BipartitionDict[item] for item in BipartitionList], 300)\n",
    "bipar_sizes = np.array([refinfo[item][1] for item in BipartitionList])"
   ]
  },
  {
   "cell_type": "code",
   "execution_count": 93,
   "id": "74b6da85-1739-4f3f-b598-486a49b263e4",
   "metadata": {},
   "outputs": [],
   "source": [
    "#argsortする\n",
    "ORDER = np.zeros((len(Astral_BipartitionList)+1, len(BipartitionList))) # last dimension for external edge\n",
    "for i in range(len(BipartitionList)):\n",
    "    ORDER[:-1,i] = np.argsort(Astral_DIST[:,i])\n",
    "ORDER[-1] = np.sum(Astral_DIST < bipar_sizes - 1, axis=0)"
   ]
  },
  {
   "cell_type": "code",
   "execution_count": 94,
   "id": "4e60b4cd-ee94-4776-ae0c-98ff769072a7",
   "metadata": {
    "scrolled": true
   },
   "outputs": [
    {
     "data": {
      "text/plain": [
       "<matplotlib.collections.PathCollection at 0x13c0fd850>"
      ]
     },
     "execution_count": 94,
     "metadata": {},
     "output_type": "execute_result"
    },
    {
     "data": {
      "image/png": "[encoded data removed]",
      "text/plain": [
       "<Figure size 640x480 with 1 Axes>"
      ]
     },
     "metadata": {},
     "output_type": "display_data"
    }
   ],
   "source": [
    "import matplotlib.pyplot as plt\n",
    "x = bipar_sizes\n",
    "y = np.min(ORDER[indices], axis=0)\n",
    "plt.scatter(x,y, s=1)"
   ]
  },
  {
   "cell_type": "code",
   "execution_count": 101,
   "id": "fc7dad36",
   "metadata": {},
   "outputs": [
    {
     "data": {
      "text/plain": [
       "<Axes: >"
      ]
     },
     "execution_count": 101,
     "metadata": {},
     "output_type": "execute_result"
    },
    {
     "data": {
      "image/png": "[encoded data removed]",
      "text/plain": [
       "<Figure size 640x480 with 2 Axes>"
      ]
     },
     "metadata": {},
     "output_type": "display_data"
    }
   ],
   "source": [
    "import seaborn as sns\n",
    "from matplotlib.colors import LogNorm\n",
    "sns.histplot(x=x, y=y, bins=(np.arange(x.min(), x.max() + 2) - 0.5, \n",
    "                             np.arange(y.min(), y.max() + 2) - 0.5), \n",
    "                        cbar=True, cmap=\"magma\")"
   ]
  }
 ],
 "metadata": {
  "kernelspec": {
   "display_name": "Python 3 (ipykernel)",
   "language": "python",
   "name": "python3"
  },
  "language_info": {
   "codemirror_mode": {
    "name": "ipython",
    "version": 3
   },
   "file_extension": ".py",
   "mimetype": "text/x-python",
   "name": "python",
   "nbconvert_exporter": "python",
   "pygments_lexer": "ipython3",
   "version": "3.12.5"
  }
 },
 "nbformat": 4,
 "nbformat_minor": 5
}
